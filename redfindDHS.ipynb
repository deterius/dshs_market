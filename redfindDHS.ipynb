{
 "cells": [
  {
   "cell_type": "code",
   "execution_count": 43,
   "metadata": {},
   "outputs": [],
   "source": [
    "import requests\n",
    "import pandas as pd\n",
    "from datetime import datetime"
   ]
  },
  {
   "cell_type": "code",
   "execution_count": 44,
   "metadata": {},
   "outputs": [],
   "source": [
    "url = \"https://unofficial-redfin.p.rapidapi.com/properties/list\"\n",
    "\n",
    "querystring = {\n",
    "    \"region_id\": \"4899\",\n",
    "    \"region_type\": \"6\",\n",
    "    \"uipt\": \"1,2,3,4,7,8\",\n",
    "    \"status\": \"9\",\n",
    "    \"sf\": \"1,2,3,5,6,7\",\n",
    "    \"num_homes\": \"300\"\n",
    "}\n",
    "\n",
    "headers = {\n",
    "    \"X-RapidAPI-Key\": \"b60faef7a6msh2c985c19232815ap1c4e46jsna04a608045c9\",\n",
    "    \"X-RapidAPI-Host\": \"unofficial-redfin.p.rapidapi.com\"\n",
    "}\n",
    "\n",
    "response = requests.get(url, headers=headers, params=querystring)\n",
    "data = response.json()\n",
    "\n",
    "# Extracting nested data from 'homes' -> 'homeData'\n",
    "homes_data = [home['homeData'] for home in data['homes']]\n",
    "\n",
    "\n",
    "# Convert the extracted data to pandas DataFrame\n",
    "df = pd.json_normalize(homes_data)\n",
    "\n",
    "# Get the current date and time\n",
    "current_datetime = datetime.now()\n",
    "\n",
    "# Add the current date and time as a new column in the DataFrame\n",
    "df['Data Requested Date'] = current_datetime\n",
    "\n"
   ]
  },
  {
   "cell_type": "code",
   "execution_count": 45,
   "metadata": {},
   "outputs": [],
   "source": [
    "import re\n",
    "\n",
    "# Function to format column names\n",
    "def format_column_name(column_name):\n",
    "    # Replace periods with spaces\n",
    "    column_name = column_name.replace('.', ' ')\n",
    "\n",
    "    # Add space before capital letters and make lowercase\n",
    "    formatted_name = ''.join([' ' + char if char.isupper() else char for char in column_name]).strip().lower()\n",
    "    \n",
    "    # Remove leading/trailing spaces and replace multiple spaces with a single space\n",
    "    formatted_name = re.sub(' +', ' ', formatted_name.strip()).lower()\n",
    "\n",
    "    return formatted_name\n",
    "# Format the column headers\n",
    "df.columns = [format_column_name(col) for col in df.columns]"
   ]
  },
  {
   "cell_type": "code",
   "execution_count": 46,
   "metadata": {},
   "outputs": [],
   "source": [
    "# Convert 'days on market days on market value' to numeric\n",
    "df['days on market days on market value'] = pd.to_numeric(df['days on market days on market value'], errors='coerce')\n",
    "# Convert 'days on market days on market value' to a timedelta and subtract from 'data requested date'\n",
    "df['date added to market'] = df['data requested date'] - pd.to_timedelta(df['days on market days on market value'], unit='D')\n"
   ]
  },
  {
   "cell_type": "code",
   "execution_count": 47,
   "metadata": {},
   "outputs": [],
   "source": [
    "df['days on market time on redfin seconds'] = pd.to_numeric(df['days on market time on redfin seconds'], errors='coerce')\n",
    "# Convert 'days on market time on redfin seconds' to a timedelta and subtract from 'data requested date'\n",
    "df['date added to redfin'] = df['data requested date'] - pd.to_timedelta(df['days on market time on redfin seconds'], unit='s')"
   ]
  },
  {
   "cell_type": "code",
   "execution_count": 48,
   "metadata": {},
   "outputs": [],
   "source": [
    "# Convert 'last sale data last sold date seconds' to numeric, filling NaNs with 0\n",
    "df['last sale data last sold date seconds'] = pd.to_numeric(df['last sale data last sold date seconds'], errors='coerce').fillna(0)\n",
    "\n",
    "# Apply the calculation to all rows\n",
    "df['date of last sale'] = df['data requested date'] - pd.to_timedelta(df['last sale data last sold date seconds'], unit='s')\n",
    "\n",
    "# For rows where 'last sale data last sold date seconds' is 0, set 'date of last sale' to NaN or some default value\n",
    "df.loc[df['last sale data last sold date seconds'] == 0, 'date of last sale'] = pd.NaT  # or some other default value\n"
   ]
  },
  {
   "cell_type": "code",
   "execution_count": 49,
   "metadata": {},
   "outputs": [],
   "source": [
    "#check for duplicates\n",
    "df_new = df\n",
    "df_existing = pd.read_excel('data/dshs_test.xlsx')\n",
    "current_date = datetime.now()\n"
   ]
  },
  {
   "cell_type": "code",
   "execution_count": 50,
   "metadata": {},
   "outputs": [
    {
     "name": "stderr",
     "output_type": "stream",
     "text": [
      "/var/folders/tw/nqkxq7jn1msgjm8k_0dkcwlw0000gn/T/ipykernel_19669/333402078.py:11: FutureWarning: The frame.append method is deprecated and will be removed from pandas in a future version. Use pandas.concat instead.\n",
      "  df_existing = df_existing.append(df_new[~duplicates], ignore_index=True)\n"
     ]
    }
   ],
   "source": [
    "# Ensure the columns are of the same data type\n",
    "df_existing['listing id value'] = df_existing['listing id value'].astype(str)\n",
    "df_existing['property id'] = df_existing['property id'].astype(str)\n",
    "df_new['listing id value'] = df_new['listing id value'].astype(str)\n",
    "df_new['property id'] = df_new['property id'].astype(str)\n",
    "\n",
    "# Identify duplicates in the new data based on 'listing id value' and 'property id'\n",
    "duplicates = df_new[['listing id value', 'property id']].isin(df_existing[['listing id value', 'property id']].to_dict(orient='list')).all(axis=1)\n",
    "\n",
    "# Filter out duplicates and append the non-duplicates to the existing data\n",
    "df_existing = df_existing.append(df_new[~duplicates], ignore_index=True)\n",
    "\n",
    "# Identify homes that are in the existing data but not in the new data\n",
    "sold_homes = ~df_existing[['listing id value', 'property id']].isin(df_new[['listing id value', 'property id']].to_dict(orient='list')).all(axis=1)\n",
    "\n",
    "# Update 'sold' status and 'date of last sale' for these homes\n",
    "df_existing.loc[sold_homes, 'sold'] = True\n",
    "df_existing.loc[sold_homes, 'date of last sale'] = current_date"
   ]
  },
  {
   "cell_type": "code",
   "execution_count": 51,
   "metadata": {},
   "outputs": [],
   "source": [
    "df_existing.to_excel('data/dshs_test.xlsx')"
   ]
  },
  {
   "cell_type": "code",
   "execution_count": null,
   "metadata": {},
   "outputs": [],
   "source": []
  }
 ],
 "metadata": {
  "kernelspec": {
   "display_name": "Python 3",
   "language": "python",
   "name": "python3"
  },
  "language_info": {
   "codemirror_mode": {
    "name": "ipython",
    "version": 3
   },
   "file_extension": ".py",
   "mimetype": "text/x-python",
   "name": "python",
   "nbconvert_exporter": "python",
   "pygments_lexer": "ipython3",
   "version": "3.10.7"
  }
 },
 "nbformat": 4,
 "nbformat_minor": 2
}
